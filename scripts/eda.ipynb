{
 "cells": [
  {
   "cell_type": "code",
   "execution_count": null,
   "metadata": {},
   "outputs": [],
   "source": [
    "import re\n",
    "from itertools import product\n",
    "from collections import defaultdict\n",
    "from typing import List, Dict, Tuple, Union, Any\n",
    "\n",
    "import numpy as np\n",
    "import pandas as pd\n",
    "import matplotlib.pyplot as plt\n",
    "\n",
    "pd.set_option('display.max_columns', None)  \n",
    "pd.set_option('display.max_colwidth', None)"
   ]
  },
  {
   "cell_type": "code",
   "execution_count": null,
   "metadata": {},
   "outputs": [],
   "source": [
    "def load_splice_data(filepath: str) -> pd.DataFrame:\n",
    "    data = pd.read_csv(filepath)\n",
    "    data[\"instance_name\"] = data[\"instance_name\"].str.strip()\n",
    "    data[\"sequence\"] = data[\"sequence\"].apply(\n",
    "        lambda seq: \"\".join(\n",
    "            [nl if nl in \"ATCGN\" else \"N\" for nl in seq.strip()]\n",
    "        )\n",
    "    )\n",
    "    return data\n",
    "\n",
    "\n",
    "def kmer_dataset(data: pd.DataFrame, kmer_size: int) -> pd.DataFrame:\n",
    "    unique_kmers = sorted(\n",
    "        [\"\".join(seq) for seq in product(\"ACTGN\", repeat=kmer_size)]\n",
    "    )\n",
    "    results = {kmer: [] for kmer in unique_kmers}\n",
    "    results.update({\"label\": []})\n",
    "    \n",
    "    for _, row in data.iterrows():\n",
    "        seq = row[\"sequence\"]\n",
    "        label = row[\"label\"]\n",
    "        results[\"label\"].append(label)\n",
    "        counts = {kmer: 0 for kmer in unique_kmers}\n",
    "        for i in range(0, len(seq) - kmer_size, kmer_size):\n",
    "            sub_seq = seq[i: i + kmer_size]\n",
    "            counts[sub_seq] += 1\n",
    "        for sub_seq, count in counts.items():\n",
    "            results[sub_seq].append(count)\n",
    "    \n",
    "    return pd.DataFrame(data=results)"
   ]
  },
  {
   "cell_type": "code",
   "execution_count": null,
   "metadata": {},
   "outputs": [],
   "source": [
    "splice_datapath = \"../data/splice.csv\"\n",
    "splice_df = load_splice_data(splice_datapath)\n",
    "splice_kmers_df = kmer_dataset(splice_df, 4)\n"
   ]
  },
  {
   "cell_type": "code",
   "execution_count": null,
   "metadata": {},
   "outputs": [],
   "source": [
    "from sklearn.model_selection import train_test_split\n",
    "\n",
    "X = splice_kmers_df.loc[:, splice_kmers_df.columns != \"label\"]\n",
    "y = splice_kmers_df[\"label\"]\n",
    "print(X.shape)\n",
    "print(y.shape)\n",
    "\n",
    "X_train, X_test, y_train, y_test = train_test_split(X, y, test_size=0.15, random_state=17)\n",
    "print(X_train.shape, y_train.shape)\n",
    "print(X_test.shape, y_test.shape)"
   ]
  },
  {
   "cell_type": "code",
   "execution_count": null,
   "metadata": {},
   "outputs": [],
   "source": [
    "from sklearn.naive_bayes import MultinomialNB, ComplementNB\n",
    "from sklearn.metrics import accuracy_score, precision_score, recall_score, f1_score\n",
    "\n",
    "\n",
    "clf = MultinomialNB(force_alpha=True)\n",
    "print(\"training ...\")\n",
    "clf.fit(X_train, y_train)\n",
    "print(\"predicting...\")\n",
    "y_pred = clf.predict(X_test)\n",
    "print(\"scoring...\")\n",
    "A = accuracy_score(y_test, y_pred)\n",
    "P = precision_score(y_test, y_pred, average=\"macro\")\n",
    "R = recall_score(y_test, y_pred, average=\"macro\")\n",
    "F = f1_score(y_test, y_pred, average=\"macro\")\n",
    "\n",
    "print(f\"Accuracy: {A*100:.2f}%\")\n",
    "print(f\"Precision: {P*100:.2f}%\")\n",
    "print(f\"Recall: {R*100:.2f}%\")\n",
    "print(f\"F1: {F*100:.2f}%\")"
   ]
  }
 ],
 "metadata": {
  "kernelspec": {
   "display_name": "ostinato",
   "language": "python",
   "name": "python3"
  },
  "language_info": {
   "codemirror_mode": {
    "name": "ipython",
    "version": 3
   },
   "file_extension": ".py",
   "mimetype": "text/x-python",
   "name": "python",
   "nbconvert_exporter": "python",
   "pygments_lexer": "ipython3",
   "version": "3.9.6"
  },
  "orig_nbformat": 4
 },
 "nbformat": 4,
 "nbformat_minor": 2
}
